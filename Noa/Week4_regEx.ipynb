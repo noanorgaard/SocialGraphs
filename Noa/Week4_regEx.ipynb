{
 "cells": [
  {
   "cell_type": "markdown",
   "id": "3a7fa5c0",
   "metadata": {},
   "source": [
    "# Play"
   ]
  },
  {
   "cell_type": "code",
   "execution_count": 10,
   "id": "971279b1",
   "metadata": {},
   "outputs": [
    {
     "name": "stdout",
     "output_type": "stream",
     "text": [
      "[[Aristotle]]\n",
      "Aristotle\n",
      "[[Aristotle_the_philosopher AC/DC .10|Aristotle the philosopher]]\n",
      "Aristotle_the_philosopher AC/DC .10\n"
     ]
    }
   ],
   "source": [
    "import re\n",
    "\n",
    "str1 = '... some text [[Aristotle]] some more text ...'\n",
    "str2 = '... some text [[Aristotle_the_philosopher AC/DC .10|Aristotle the philosopher]] some more text ...'\n",
    "\n",
    "# Extract 'Aristotle' from str1\n",
    "match1 = re.search(r'\\[\\[(\\w+)\\]\\]', str1) # the parentheses create a capture group to extract Aristotle and not [[Aristotele]]\n",
    "\n",
    "if match1:\n",
    "    print(match1.group(0))  # Output: [[Aristotle]]\n",
    "    print(match1.group(1))  # Output: Aristotle\n",
    "\n",
    "# Extract 'Aristotle_the_philosopher' from str2\n",
    "match2 = re.search(r'\\[\\[([\\w\\s./]+)(?:\\|[\\w\\s]+)?\\]\\]', str2) # (?:...) is a non-capturing group, so we don't extract the | and what follows\n",
    "# '+' one or more repetitions of whatever precedes (the character class [\\w\\s], i.e. word characters or spaces)\n",
    "\n",
    "if match2:\n",
    "    print(match2.group(0))  # Output: [[Aristotle_the_philosopher|Aristotle the philosopher]]\n",
    "    print(match2.group(1))  # Output: Aristotle_the_philosopher"
   ]
  },
  {
   "cell_type": "markdown",
   "id": "a93aec16",
   "metadata": {},
   "source": [
    "# Extract function"
   ]
  },
  {
   "cell_type": "code",
   "execution_count": 4,
   "id": "de7c3e56",
   "metadata": {},
   "outputs": [
    {
     "name": "stdout",
     "output_type": "stream",
     "text": [
      "['Aristotle', 'Plato']\n"
     ]
    }
   ],
   "source": [
    "def extract_wiki_links(text):\n",
    "    pattern = r'\\[\\[(\\w+)(?:\\|[\\w\\s]+)?\\]\\]'\n",
    "    matches = re.findall(pattern, text)\n",
    "    return matches\n",
    "\n",
    "# Example usage\n",
    "text = '... some text [[Aristotle]] and [[Plato|Plato the philosopher]] ...'\n",
    "links = extract_wiki_links(text)\n",
    "print(links)  # Output: ['Aristotle', 'Plato']"
   ]
  },
  {
   "cell_type": "markdown",
   "id": "d9a7fe0b",
   "metadata": {},
   "source": [
    "# Create link function"
   ]
  },
  {
   "cell_type": "code",
   "execution_count": 5,
   "id": "91854727",
   "metadata": {},
   "outputs": [
    {
     "name": "stdout",
     "output_type": "stream",
     "text": [
      "['https://en.wikipedia.org/wiki/Aristotle', 'https://en.wikipedia.org/wiki/Plato']\n"
     ]
    }
   ],
   "source": [
    "def create_wiki_link(list_of_titles):\n",
    "    wiki_prefix = \"https://en.wikipedia.org/wiki/\"\n",
    "    links = [wiki_prefix + title for title in list_of_titles]\n",
    "    return links\n",
    "\n",
    "# Example usage\n",
    "titles = ['Aristotle', 'Plato']\n",
    "wiki_links = create_wiki_link(titles)\n",
    "print(wiki_links)  # Output: ['https://en.wikipedia.org/wiki/Aristotle', 'https://en.wikipedia.org/wiki/Plato']"
   ]
  }
 ],
 "metadata": {
  "kernelspec": {
   "display_name": "base",
   "language": "python",
   "name": "python3"
  },
  "language_info": {
   "codemirror_mode": {
    "name": "ipython",
    "version": 3
   },
   "file_extension": ".py",
   "mimetype": "text/x-python",
   "name": "python",
   "nbconvert_exporter": "python",
   "pygments_lexer": "ipython3",
   "version": "3.9.19"
  }
 },
 "nbformat": 4,
 "nbformat_minor": 5
}
