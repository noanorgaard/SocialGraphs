{
 "cells": [
  {
   "cell_type": "markdown",
   "id": "a7ffd7d4",
   "metadata": {},
   "source": [
    "# NetworkX"
   ]
  },
  {
   "cell_type": "markdown",
   "id": "3b1c3b3e",
   "metadata": {},
   "source": [
    "## Creating a graph\n",
    "Create an empty graph with no nodes and no edges."
   ]
  },
  {
   "cell_type": "code",
   "execution_count": 2,
   "id": "c18d9efa",
   "metadata": {},
   "outputs": [],
   "source": [
    "import networkx as nx\n",
    "G = nx.Graph()"
   ]
  },
  {
   "cell_type": "markdown",
   "id": "8a2c25b6",
   "metadata": {},
   "source": [
    "# Nodes"
   ]
  },
  {
   "cell_type": "code",
   "execution_count": 4,
   "id": "4cd80cad",
   "metadata": {},
   "outputs": [
    {
     "data": {
      "text/plain": [
       "[1, 2, 3, 4, 5]"
      ]
     },
     "execution_count": 4,
     "metadata": {},
     "output_type": "execute_result"
    }
   ],
   "source": [
    "# add single node\n",
    "G.add_node(1)\n",
    "\n",
    "# add nodes from list\n",
    "G.add_nodes_from([2, 3])\n",
    "\n",
    "# add nodes with attributes (node, node_attribute_dict):\n",
    "G.add_nodes_from([(4, {\"color\": \"red\"}), (5, {\"color\": \"green\"})])\n",
    "\n",
    "# List nodes\n",
    "list(G.nodes)\n"
   ]
  },
  {
   "cell_type": "markdown",
   "id": "1d2ef251",
   "metadata": {},
   "source": [
    "# combining graphs"
   ]
  },
  {
   "cell_type": "code",
   "execution_count": null,
   "id": "80c649be",
   "metadata": {},
   "outputs": [],
   "source": [
    "# G contains the nodes of H as nodes of G\n",
    "H = nx.path_graph(10)\n",
    "G.add_nodes_from(H)\n",
    "\n",
    "#  use the graph H as a node in G.\n",
    "G.add_node(H)"
   ]
  },
  {
   "cell_type": "markdown",
   "id": "c84e569e",
   "metadata": {},
   "source": [
    "# Edges"
   ]
  },
  {
   "cell_type": "code",
   "execution_count": null,
   "id": "383bf3fd",
   "metadata": {},
   "outputs": [],
   "source": [
    "# Adding one edge at a time\n",
    "G.add_edge(1, 2)\n",
    "e = (2, 3)\n",
    "G.add_edge(*e)  # unpack edge tuple*\n",
    "\n",
    "# adding a list of edges,\n",
    "G.add_edges_from([(1, 2), (1, 3)])\n",
    "\n",
    "# add ebunch of edges (iterable container) fx (2, 3, {'weight': 3.1415})\n",
    "\n",
    "\n",
    "# add edges from other graph\n",
    "G.add_edges_from(H.edges)\n",
    "\n",
    "\n",
    "\n",
    "# List edges\n",
    "list(G.edges)"
   ]
  },
  {
   "cell_type": "markdown",
   "id": "6a81f88c",
   "metadata": {},
   "source": [
    "# Example with stats"
   ]
  },
  {
   "cell_type": "code",
   "execution_count": null,
   "id": "64cfdfcf",
   "metadata": {},
   "outputs": [],
   "source": [
    "# remove all edges and nodes\n",
    "G.clear()\n",
    "\n",
    "# Add \n",
    "G.add_edges_from([(1, 2), (1, 3)])\n",
    "G.add_node(1)\n",
    "G.add_edge(1, 2)\n",
    "G.add_node(\"spam\")        # adds node \"spam\"\n",
    "G.add_nodes_from(\"spam\")  # adds 4 nodes: 's', 'p', 'a', 'm'\n",
    "G.add_edge(3, 'm')\n",
    "\n",
    "G.number_of_nodes()\n",
    "\n",
    "G.number_of_edges()"
   ]
  },
  {
   "cell_type": "markdown",
   "id": "3d6a72fa",
   "metadata": {},
   "source": [
    "# Adjacency"
   ]
  },
  {
   "cell_type": "code",
   "execution_count": 10,
   "id": "1fb99294",
   "metadata": {},
   "outputs": [
    {
     "name": "stdout",
     "output_type": "stream",
     "text": [
      "[(2, 1), (2, 4), (1, 3), (1, 2)]\n",
      "[2, 1, 3, 4]\n"
     ]
    },
    {
     "data": {
      "text/plain": [
       "[(2, 1), (2, 4), (1, 3), (1, 2)]"
      ]
     },
     "execution_count": 10,
     "metadata": {},
     "output_type": "execute_result"
    }
   ],
   "source": [
    "DG = nx.DiGraph()\n",
    "DG.add_edge(2, 1)   # adds the nodes in order 2, 1\n",
    "DG.add_edge(1, 3)\n",
    "DG.add_edge(2, 4)\n",
    "DG.add_edge(1, 2)\n",
    "print(list(DG.edges))\n",
    "print(list(DG.nodes))\n",
    "\n",
    "assert list(DG.successors(2)) == [1, 4]\n",
    "assert list(DG.edges) == [(2, 1), (2, 4), (1, 3), (1, 2)]\n",
    "\n",
    "list(DG.edges)\n",
    "\n"
   ]
  }
 ],
 "metadata": {
  "kernelspec": {
   "display_name": "base",
   "language": "python",
   "name": "python3"
  },
  "language_info": {
   "codemirror_mode": {
    "name": "ipython",
    "version": 3
   },
   "file_extension": ".py",
   "mimetype": "text/x-python",
   "name": "python",
   "nbconvert_exporter": "python",
   "pygments_lexer": "ipython3",
   "version": "3.9.19"
  }
 },
 "nbformat": 4,
 "nbformat_minor": 5
}
