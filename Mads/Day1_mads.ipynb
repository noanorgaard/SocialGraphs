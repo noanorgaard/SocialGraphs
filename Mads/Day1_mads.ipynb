{
 "cells": [
  {
   "cell_type": "markdown",
   "id": "7f2f41db",
   "metadata": {},
   "source": [
    "# Day 1"
   ]
  },
  {
   "cell_type": "markdown",
   "id": "cbca8744",
   "metadata": {},
   "source": [
    "## API and other sjit \n",
    "\n",
    "- **Explain in your own words: What is the the difference between the html page and the wiki-source?**\n",
    "\n",
    "The html page is the compiled version of the wiki-source code. The wiki-source code is written in a REST format which is compiled to make up the html page in a user friendly way?\n",
    "\n",
    "- **What are the various parameters you can set for a query of the wikipedia api?**\n",
    "\n",
    "query,barchcomplete,content,pages ect \n",
    "\n",
    "\n"
   ]
  },
  {
   "cell_type": "markdown",
   "id": "b82ad3c2",
   "metadata": {},
   "source": []
  },
  {
   "cell_type": "code",
   "execution_count": null,
   "id": "0ba2f780",
   "metadata": {},
   "outputs": [],
   "source": []
  },
  {
   "cell_type": "markdown",
   "id": "48042bd2",
   "metadata": {},
   "source": []
  }
 ],
 "metadata": {
  "language_info": {
   "name": "python"
  }
 },
 "nbformat": 4,
 "nbformat_minor": 5
}
