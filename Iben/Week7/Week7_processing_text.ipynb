{
 "cells": [
  {
   "cell_type": "code",
   "execution_count": 2,
   "id": "8c58532e",
   "metadata": {},
   "outputs": [],
   "source": [
    "import nltk, re, pprint\n",
    "from nltk import word_tokenize"
   ]
  },
  {
   "cell_type": "markdown",
   "id": "f9248a1d",
   "metadata": {},
   "source": [
    "## Part 1: Processing real text (from out on the inter-webs)"
   ]
  },
  {
   "cell_type": "markdown",
   "id": "a24d4029",
   "metadata": {},
   "source": [
    "## Part 2: Community detection"
   ]
  },
  {
   "cell_type": "code",
   "execution_count": 3,
   "id": "8db02dff",
   "metadata": {},
   "outputs": [
    {
     "name": "stdout",
     "output_type": "stream",
     "text": [
      "There are 489 bands in the list.\n",
      "After removal, there are 488 bands in the list.\n"
     ]
    }
   ],
   "source": [
    "#  Loading the graph from Github as decribed in the exercise\n",
    "import networkx as nx\n",
    "import matplotlib.pyplot as plt\n",
    "import numpy as np\n",
    "import requests\n",
    "import random\n",
    "import re\n",
    "\n",
    "\n",
    "# load the List_of_mainstream_rock_performers.txt file\n",
    "with open('List_of_mainstream_rock_performers.txt', 'r') as file:\n",
    "    data = file.read()\n",
    "\n",
    "# Regex to match wiki-links in data\n",
    "pattern = r'\\[\\[(.*?)\\]\\]'\n",
    "# Find mathes\n",
    "matches = re.findall(pattern, data)\n",
    "\n",
    "bands = matches\n",
    "print(f'There are {len(bands)} bands in the list.')\n",
    "\n",
    "# remove all bands named \"AllMusic\"\n",
    "bands = [band for band in bands if \"AllMusic\" not in band]\n",
    "print(f'After removal, there are {len(bands)} bands in the list.')\n",
    "\n"
   ]
  },
  {
   "cell_type": "code",
   "execution_count": 4,
   "id": "ba60cbec",
   "metadata": {},
   "outputs": [
    {
     "name": "stdout",
     "output_type": "stream",
     "text": [
      "['10cc', '10_Years_(band)', '3_Doors_Down', '311_(band)', '38_Special_(band)', 'ABBA', 'Accept_(band)', 'AC/DC', 'Bryan_Adams', 'Aerosmith', 'AFI_(band)', 'Air_Supply', 'The_Alan_Parsons_Project', 'Alice_in_Chains', 'The_All-American_Rejects', 'The_Allman_Brothers_Band', 'Alter_Bridge', 'Ambrosia_(band)', 'America_(band)', 'The_Animals', 'Adam_Ant', 'Anthrax_(American_band)', 'April_Wine', 'Arcade_Fire', 'Arctic_Monkeys', 'Asia_(band)', 'Audioslave', 'Avenged_Sevenfold', 'Awolnation', \"The_B-52's\", 'Bachman–Turner_Overdrive', 'Bad_Company', 'Badfinger', 'The_Band', 'The_Bangles', 'Barenaked_Ladies', 'Bay_City_Rollers', 'The_Beach_Boys', 'Beastie_Boys', 'The_Beatles', 'Bee_Gees', 'Beck', 'Ben_Folds_Five', 'Pat_Benatar', 'Chuck_Berry', 'The_Big_Bopper', 'Billy_Talent', 'The_Black_Crowes', 'The_Black_Keys', 'Black_Sabbath', 'Black_Stone_Cherry', 'Black_Veil_Brides', 'Blink-182', 'Blondie_(band)', 'Bloodhound_Gang', 'Blue_October', 'Blue_Öyster_Cult', 'Blues_Traveler', 'James_Blunt', 'Blur_(band)', 'Bon_Jovi', 'Boston_(band)', 'David_Bowie', 'Bowling_for_Soup', 'The_Boxtones', 'Boys_Like_Girls', 'Bread_(band)', 'Breaking_Benjamin', 'Bring_Me_the_Horizon', 'Jackson_Browne', 'Buckcherry', 'Jeff_Buckley', 'Bullet_for_My_Valentine', 'Chris_de_Burgh', 'Bush_(British_band)', 'The_Byrds', 'Cage_the_Elephant', 'Cake_(band)', 'Canned_Heat', 'The_Cab', 'The_Cardigans', 'The_Cars', 'Catfish_and_the_Bottlemen', 'Harry_Chapin', 'Tracy_Chapman', 'Cheap_Trick', 'Chevelle_(band)', 'Chicago_(band)', 'Chubby_Checker', 'Cinderella_(band)', 'Dallas_Green_(musician)', 'Eric_Clapton', 'The_Clash', 'Eddie_Cochran', 'Joe_Cocker', 'Coheed_and_Cambria', 'Cold_Chisel', 'Coldplay', 'Collective_Soul', 'Phil_Collins', 'Alice_Cooper', 'Alice_Cooper_(band)', 'Chris_Cornell', 'Elvis_Costello', 'Counting_Crows', 'The_Cranberries', 'Crash_Test_Dummies', 'Cream_(band)', 'Creed_(band)', 'Creedence_Clearwater_Revival', 'Jim_Croce', 'Crosby,_Stills,_Nash_&_Young', 'Christopher_Cross', 'Sheryl_Crow', 'Crowded_House', 'The_Cult', 'The_Cure', 'Damn_Yankees_(band)', 'Charlie_Daniels', 'Dashboard_Confessional', 'Daughtry_(band)', 'The_Dave_Clark_Five', 'Dave_Matthews_Band', 'Days_of_the_New', 'Death_Cab_for_Cutie', 'Deep_Purple', 'Def_Leppard', 'Deftones', 'Depeche_Mode', 'Bo_Diddley', 'Dio_(band)', 'Dire_Straits', 'Disturbed_(band)', 'Fats_Domino', 'Donovan', 'The_Doobie_Brothers', 'The_Doors', 'Dr._Hook_&_the_Medicine_Show', 'Dropkick_Murphys', 'Drowning_Pool', 'Duran_Duran', 'Ian_Dury', 'Bob_Dylan', 'Eagles_(band)', 'Echo_&_the_Bunnymen', 'Duane_Eddy', 'Edgar_Winter', 'Electric_Light_Orchestra', 'Emerson,_Lake_&_Palmer', 'England_Dan_&_John_Ford_Coley', 'Melissa_Etheridge', 'Europe_(band)', 'Evanescence', 'Everclear_(band)', 'Everlast', 'The_Everly_Brothers', 'Extreme_(band)', 'Faces_(band)', 'Faith_No_More', 'Fall_Out_Boy', 'Bryan_Ferry', 'Filter_(band)', 'Finger_Eleven', 'FireHouse', 'Five_Finger_Death_Punch', 'Five_for_Fighting', 'The_Fixx', 'The_Flaming_Lips', 'Fleetwood_Mac', 'Flogging_Molly', 'Florence_and_the_Machine', 'Flyleaf_(band)', 'Foals_(band)', 'Dan_Fogelberg', 'John_Fogerty', 'Foo_Fighters', 'Foreigner_(band)', 'Foster_the_People', 'The_Four_Seasons_(band)', 'Peter_Frampton', 'Franz_Ferdinand_(band)', 'The_Fray', 'Glenn_Frey', 'Fuel_(band)', 'Fun_(band)', 'Funkadelic', 'Peter_Gabriel', 'Garbage_(band)', 'Genesis_(band)', 'Ghost_(Swedish_band)', 'Gin_Blossoms', 'Gary_Glitter', \"The_Go-Go's\", 'Godsmack', 'Golden_Earring', 'Goo_Goo_Dolls', 'Good_Charlotte', 'Grand_Funk_Railroad', 'Grateful_Dead', 'Great_White', 'Green_Day', 'Greta_Van_Fleet', 'The_Guess_Who', \"Guns_N'_Roses\", 'Halestorm', 'Bill_Haley_&_His_Comets', 'Hall_&_Oates', 'George_Harrison', 'Heart_(band)', 'Jimi_Hendrix', 'Don_Henley', \"Herman's_Hermits\", 'Highly_Suspect', 'Hinder', 'The_Hives', 'Hole_(band)', 'The_Hollies', 'Buddy_Holly', 'Hoobastank', 'Hootie_&_the_Blowfish', 'Icehouse_(band)', 'Billy_Idol', 'Imagine_Dragons', 'Incubus_(band)', 'Interpol_(band)', 'INXS', 'Iron_Maiden', 'The_J._Geils_Band', 'The_Jam', 'Tommy_James_and_the_Shondells', \"Jane's_Addiction\", 'Jefferson_Airplane', 'Jefferson_Starship', 'The_Jesus_and_Mary_Chain', 'Jet_(Australian_band)', 'Jethro_Tull_(band)', 'Joan_Jett', 'Jimmy_Eat_World', 'Billy_Joel', 'Elton_John', 'Janis_Joplin', 'Journey_(band)', 'Joy_Division', 'Judas_Priest', 'Kaiser_Chiefs', 'Kaleo_(band)', 'Kansas_(band)', 'Keane_(band)', 'Kid_Rock', 'The_Killers', 'Killswitch_Engage', 'Kings_of_Leon', 'The_Kinks', 'Kiss_(band)', 'Korn', 'Lenny_Kravitz', 'Lacuna_Coil', 'Lamb_of_God_(band)', 'Avril_Lavigne', 'Led_Zeppelin', 'John_Lennon', 'Huey_Lewis_and_the_News', 'Jerry_Lee_Lewis', 'Lifehouse_(band)', 'Limp_Bizkit', 'Linkin_Park', 'Little_Richard', 'Little_River_Band', 'Live_(band)', 'Living_Colour', 'Kenny_Loggins', 'Loverboy', \"The_Lovin'_Spoonful\", 'The_Lumineers', 'Lynyrd_Skynyrd', 'The_Mamas_&_the_Papas', 'Manfred_Mann', 'Manfred_Mann_(musician)', \"Manfred_Mann's_Earth_Band\", 'Manfred_Mann_Chapter_Three', 'Marilyn_Manson', 'Marilyn_Manson_(band)', 'The_Marshall_Tucker_Band', 'Matchbox_Twenty', 'John_Mayer', 'John_Mayall', 'John_Mayall_&_the_Bluesbreakers', 'Paul_McCartney', 'Meat_Loaf', 'Megadeth', 'John_Mellencamp', 'Men_at_Work', 'Metallica', 'Midnight_Oil', 'Mike_and_the_Mechanics', 'Modest_Mouse', 'Eddie_Money', 'The_Monkees', 'Montgomery_Gentry', 'The_Moody_Blues', 'Alanis_Morissette', 'Van_Morrison', 'Morrissey', 'The_Mothers_of_Invention', 'Mötley_Crüe', 'Motörhead', 'Mudvayne', 'Mumford_&_Sons', 'Michael_Martin_Murphey', 'Muse_(band)', 'My_Chemical_Romance', 'New_York_Dolls', 'Nickelback', 'Stevie_Nicks', 'Harry_Nilsson', 'Nine_Inch_Nails', 'Nirvana_(band)', 'No_Doubt', 'Ted_Nugent', 'Oasis_(band)', 'The_Offspring', 'Roy_Orbison', 'Ozzy_Osbourne', 'Our_Lady_Peace', 'The_Outfield', 'P.O.D.', 'Panic!_at_the_Disco', 'Pantera', 'Papa_Roach', 'Paramore', 'Parliament_(band)', 'Parliament-Funkadelic', 'Pearl_Jam', 'A_Perfect_Circle', 'Tom_Petty', 'Tom_Petty_and_the_Heartbreakers', 'Pink_Floyd', 'Pixies_(band)', 'Robert_Plant', 'Poison_(American_band)', 'The_Police', 'Iggy_Pop', 'Pop_Evil', 'The_Presidents_of_the_United_States_of_America_(band)', 'The_Pretenders', 'Elvis_Presley', 'The_Pretty_Reckless', 'Primus_(band)', 'Puddle_of_Mudd', 'Queen_(band)', 'Queens_of_the_Stone_Age', 'Queensrÿche', 'Quiet_Riot', 'R.E.M.', 'Radiohead', 'Rage_Against_the_Machine', 'Rainbow_(rock_band)', 'Rammstein', 'Ramones', 'Ratt', 'Red_Hot_Chili_Peppers', 'Lou_Reed', 'REO_Speedwagon', 'Chris_Rea', 'Rise_Against', 'Sixto_Rodriguez', 'The_Rolling_Stones', 'Linda_Ronstadt', 'Roxy_Music', 'Royal_Blood_(band)', 'Run-DMC', 'Rush_(band)', 'Mitch_Ryder', 'Saliva_(band)', 'Sam_Fender', 'Santana_(band)', 'Joe_Satriani', 'Saving_Abel', 'Scorpions_(band)', 'The_Script', 'Seether', 'Bob_Seger', 'Sepultura', 'Sex_Pistols', \"Shakin'_Stevens\", 'Shinedown', 'Silverchair', 'Simon_&_Garfunkel', 'Simple_Minds', 'Simple_Plan', 'Skid_Row_(American_band)', 'Skillet_(band)', 'Slade', 'Slayer', 'Slipknot_(band)', 'Sly_and_the_Family_Stone', 'Small_Faces', 'Smash_Mouth', 'The_Smashing_Pumpkins', 'The_Smiths', 'Smokie_(band)', 'Snow_Patrol', 'Social_Distortion', 'Sonic_Youth', 'Soundgarden', 'Bruce_Springsteen', 'Billy_Squier', 'Staind', 'Ringo_Starr', 'Starset', 'Starship_(band)', 'Status_Quo_(band)', 'Steely_Dan', 'Steppenwolf_(band)', 'Steve_Miller_Band', 'Rod_Stewart', 'Sting_(musician)', 'The_Stone_Roses', 'Stone_Sour', 'Stone_Temple_Pilots', 'The_Strokes', 'Styx_(band)', 'Sublime_(band)', 'Sublime_with_Rome', 'Sum_41', 'Supertramp', 'Survivor_(band)', 'The_Sweet', 'System_of_a_Down', 'T._Rex_(band)', 'Talking_Heads', 'James_Taylor', 'Ten_Years_After', 'Tenacious_D', 'Tesla_(band)', 'Theory_of_a_Deadman', 'Thin_Lizzy', 'Third_Eye_Blind', 'Thirty_Seconds_to_Mars', 'George_Thorogood', 'Thousand_Foot_Krutch', 'Three_Days_Grace', 'Three_Dog_Night', 'Tool_(band)', 'Toto_(band)', 'Traffic_(band)', 'The_Tragically_Hip', 'Train_(band)', 'Traveling_Wilburys', 'Travis_(band)', 'Trivium_(band)', 'Twenty_One_Pilots', 'Twisted_Sister', 'U2', 'UB40', 'Uriah_Heep_(band)', 'The_Used', 'Steve_Vai', 'Ritchie_Valens', 'Vampire_Weekend', 'Van_Halen', 'Van_Zant_(band)', 'Stevie_Ray_Vaughan', 'Velvet_Revolver', 'The_Velvet_Underground', 'The_Verve', 'Gene_Vincent', 'Volbeat', 'Joe_Walsh', 'Warrant_(American_band)', 'W.A.S.P._(band)', 'Weezer', 'Jack_White', 'The_White_Stripes', 'White_Zombie_(band)', 'Whitesnake', 'The_Who', 'Paul_McCartney_and_Wings', 'Steve_Winwood', 'X_(American_band)', 'X_Ambassadors', 'The_Yardbirds', 'Yes_(band)', 'Neil_Young', 'Frank_Zappa', 'Rob_Zombie', 'The_Zombies', 'ZZ_Top']\n"
     ]
    }
   ],
   "source": [
    "# Extracted the bandnames used in the wiki links. \n",
    "\n",
    "# replace the spaces in band names with underscores and store in new list\n",
    "bands_underscored = [band.replace(\" \", \"_\") for band in bands]\n",
    "# Remove all \"|\" and anything after it in band names and store in new list\n",
    "bands_cleaned = [band.split('|')[0] for band in bands_underscored]\n",
    "print(bands_cleaned)\n",
    "\n",
    "# function to sanitize filenames, so that they can be used as valid filenames\n",
    "def sanitize_filename(name):\n",
    "    # Replace any character that is not a letter, number, underscore, or hyphen with an underscore\n",
    "    return re.sub(r'[^\\w\\-]', '_', name)\n",
    "\n",
    "# Sanitize band names for filenames\n",
    "bands_sanitized = [sanitize_filename(band) for band in bands_cleaned] # used in filenames"
   ]
  },
  {
   "cell_type": "code",
   "execution_count": 9,
   "id": "4b92a013",
   "metadata": {},
   "outputs": [
    {
     "name": "stdout",
     "output_type": "stream",
     "text": [
      "{'10cc': 'Genre not found', '10_Years_(band)': 'Genre not found', '3_Doors_Down': 'Genre not found', '311_(band)': 'Genre not found', '38_Special_(band)': 'Genre not found', 'ABBA': 'Genre not found', 'Accept_(band)': 'Genre not found', 'AC/DC': 'Genre not found', 'Bryan_Adams': 'Genre not found', 'Aerosmith': 'Genre not found', 'AFI_(band)': 'Genre not found', 'Air_Supply': 'Genre not found', 'The_Alan_Parsons_Project': 'Genre not found', 'Alice_in_Chains': 'Genre not found', 'The_All-American_Rejects': 'Genre not found', 'The_Allman_Brothers_Band': 'Genre not found', 'Alter_Bridge': 'Genre not found', 'Ambrosia_(band)': 'Genre not found', 'America_(band)': 'Genre not found', 'The_Animals': 'Genre not found', 'Adam_Ant': 'Genre not found', 'Anthrax_(American_band)': 'Genre not found', 'April_Wine': 'Genre not found', 'Arcade_Fire': 'Genre not found', 'Arctic_Monkeys': 'Genre not found', 'Asia_(band)': 'Genre not found', 'Audioslave': 'Genre not found', 'Avenged_Sevenfold': 'Genre not found', 'Awolnation': 'Genre not found', \"The_B-52's\": 'Genre not found', 'Bachman–Turner_Overdrive': 'Genre not found', 'Bad_Company': 'Genre not found', 'Badfinger': 'Genre not found', 'The_Band': 'Genre not found', 'The_Bangles': 'Genre not found', 'Barenaked_Ladies': 'Genre not found', 'Bay_City_Rollers': 'Genre not found', 'The_Beach_Boys': 'Genre not found', 'Beastie_Boys': 'Genre not found', 'The_Beatles': 'Genre not found', 'Bee_Gees': 'Genre not found', 'Beck': 'Genre not found', 'Ben_Folds_Five': 'Genre not found', 'Pat_Benatar': 'Genre not found', 'Chuck_Berry': 'Genre not found', 'The_Big_Bopper': 'Genre not found', 'Billy_Talent': 'Genre not found', 'The_Black_Crowes': 'Genre not found', 'The_Black_Keys': 'Genre not found', 'Black_Sabbath': 'Genre not found', 'Black_Stone_Cherry': 'Genre not found', 'Black_Veil_Brides': 'Genre not found', 'Blink-182': 'Genre not found', 'Blondie_(band)': 'Genre not found', 'Bloodhound_Gang': 'Genre not found', 'Blue_October': 'Genre not found', 'Blue_Öyster_Cult': 'Genre not found', 'Blues_Traveler': 'Genre not found', 'James_Blunt': 'Genre not found', 'Blur_(band)': 'Genre not found', 'Bon_Jovi': 'Genre not found', 'Boston_(band)': 'Genre not found', 'David_Bowie': 'Genre not found', 'Bowling_for_Soup': 'Genre not found', 'The_Boxtones': 'Genre not found', 'Boys_Like_Girls': 'Genre not found', 'Bread_(band)': 'Genre not found', 'Breaking_Benjamin': 'Genre not found', 'Bring_Me_the_Horizon': 'Genre not found', 'Jackson_Browne': 'Genre not found', 'Buckcherry': 'Genre not found', 'Jeff_Buckley': 'Genre not found', 'Bullet_for_My_Valentine': 'Genre not found', 'Chris_de_Burgh': 'Genre not found', 'Bush_(British_band)': 'Genre not found', 'The_Byrds': 'Genre not found', 'Cage_the_Elephant': 'Genre not found', 'Cake_(band)': 'Genre not found', 'Canned_Heat': 'Genre not found', 'The_Cab': 'Genre not found', 'The_Cardigans': 'Genre not found', 'The_Cars': 'Genre not found', 'Catfish_and_the_Bottlemen': 'Genre not found', 'Harry_Chapin': 'Genre not found', 'Tracy_Chapman': 'Genre not found', 'Cheap_Trick': 'Genre not found', 'Chevelle_(band)': 'Genre not found', 'Chicago_(band)': 'Genre not found', 'Chubby_Checker': 'Genre not found', 'Cinderella_(band)': 'Genre not found', 'Dallas_Green_(musician)': 'Genre not found', 'Eric_Clapton': 'Genre not found', 'The_Clash': 'Genre not found', 'Eddie_Cochran': 'Genre not found', 'Joe_Cocker': 'Genre not found', 'Coheed_and_Cambria': 'Genre not found', 'Cold_Chisel': 'Genre not found', 'Coldplay': 'Genre not found', 'Collective_Soul': 'Genre not found', 'Phil_Collins': 'Genre not found', 'Alice_Cooper': 'Genre not found', 'Alice_Cooper_(band)': 'Genre not found', 'Chris_Cornell': 'Genre not found', 'Elvis_Costello': 'Genre not found', 'Counting_Crows': 'Genre not found', 'The_Cranberries': 'Genre not found', 'Crash_Test_Dummies': 'Genre not found', 'Cream_(band)': 'Genre not found', 'Creed_(band)': 'Genre not found', 'Creedence_Clearwater_Revival': 'Genre not found', 'Jim_Croce': 'Genre not found', 'Crosby,_Stills,_Nash_&_Young': 'Genre not found', 'Christopher_Cross': 'Genre not found', 'Sheryl_Crow': 'Genre not found', 'Crowded_House': 'Genre not found', 'The_Cult': 'Genre not found', 'The_Cure': 'Genre not found', 'Damn_Yankees_(band)': 'Genre not found', 'Charlie_Daniels': 'Genre not found', 'Dashboard_Confessional': 'Genre not found', 'Daughtry_(band)': 'Genre not found', 'The_Dave_Clark_Five': 'Genre not found', 'Dave_Matthews_Band': 'Genre not found', 'Days_of_the_New': 'Genre not found', 'Death_Cab_for_Cutie': 'Genre not found', 'Deep_Purple': 'Genre not found', 'Def_Leppard': 'Genre not found', 'Deftones': 'Genre not found', 'Depeche_Mode': 'Genre not found', 'Bo_Diddley': 'Genre not found', 'Dio_(band)': 'Genre not found', 'Dire_Straits': 'Genre not found', 'Disturbed_(band)': 'Genre not found', 'Fats_Domino': 'Genre not found', 'Donovan': 'Genre not found', 'The_Doobie_Brothers': 'Genre not found', 'The_Doors': 'Genre not found', 'Dr._Hook_&_the_Medicine_Show': 'Genre not found', 'Dropkick_Murphys': 'Genre not found', 'Drowning_Pool': 'Genre not found', 'Duran_Duran': 'Genre not found', 'Ian_Dury': 'Genre not found', 'Bob_Dylan': 'Genre not found', 'Eagles_(band)': 'Genre not found', 'Echo_&_the_Bunnymen': 'Genre not found', 'Duane_Eddy': 'Genre not found', 'Edgar_Winter': 'Genre not found', 'Electric_Light_Orchestra': 'Genre not found', 'Emerson,_Lake_&_Palmer': 'Genre not found', 'England_Dan_&_John_Ford_Coley': 'Genre not found', 'Melissa_Etheridge': 'Genre not found', 'Europe_(band)': 'Genre not found', 'Evanescence': 'Genre not found', 'Everclear_(band)': 'Genre not found', 'Everlast': 'Genre not found', 'The_Everly_Brothers': 'Genre not found', 'Extreme_(band)': 'Genre not found', 'Faces_(band)': 'Genre not found', 'Faith_No_More': 'Genre not found', 'Fall_Out_Boy': 'Genre not found', 'Bryan_Ferry': 'Genre not found', 'Filter_(band)': 'Genre not found', 'Finger_Eleven': 'Genre not found', 'FireHouse': 'Genre not found', 'Five_Finger_Death_Punch': 'Genre not found', 'Five_for_Fighting': 'Genre not found', 'The_Fixx': 'Genre not found', 'The_Flaming_Lips': 'Genre not found', 'Fleetwood_Mac': 'Genre not found', 'Flogging_Molly': 'Genre not found', 'Florence_and_the_Machine': 'Genre not found', 'Flyleaf_(band)': 'Genre not found', 'Foals_(band)': 'Genre not found', 'Dan_Fogelberg': 'Genre not found', 'John_Fogerty': 'Genre not found', 'Foo_Fighters': 'Genre not found', 'Foreigner_(band)': 'Genre not found', 'Foster_the_People': 'Genre not found', 'The_Four_Seasons_(band)': 'Genre not found', 'Peter_Frampton': 'Genre not found', 'Franz_Ferdinand_(band)': 'Genre not found', 'The_Fray': 'Genre not found', 'Glenn_Frey': 'Genre not found', 'Fuel_(band)': 'Genre not found', 'Fun_(band)': 'Genre not found', 'Funkadelic': 'Genre not found', 'Peter_Gabriel': 'Genre not found', 'Garbage_(band)': 'Genre not found', 'Genesis_(band)': 'Genre not found', 'Ghost_(Swedish_band)': 'Genre not found', 'Gin_Blossoms': 'Genre not found', 'Gary_Glitter': 'Genre not found', \"The_Go-Go's\": 'Genre not found', 'Godsmack': 'Genre not found', 'Golden_Earring': 'Genre not found', 'Goo_Goo_Dolls': 'Genre not found', 'Good_Charlotte': 'Genre not found', 'Grand_Funk_Railroad': 'Genre not found', 'Grateful_Dead': 'Genre not found', 'Great_White': 'Genre not found', 'Green_Day': 'Genre not found', 'Greta_Van_Fleet': 'Genre not found', 'The_Guess_Who': 'Genre not found', \"Guns_N'_Roses\": 'Genre not found', 'Halestorm': 'Genre not found', 'Bill_Haley_&_His_Comets': 'Genre not found', 'Hall_&_Oates': 'Genre not found', 'George_Harrison': 'Genre not found', 'Heart_(band)': 'Genre not found', 'Jimi_Hendrix': 'Genre not found', 'Don_Henley': 'Genre not found', \"Herman's_Hermits\": 'Genre not found', 'Highly_Suspect': 'Genre not found', 'Hinder': 'Genre not found', 'The_Hives': 'Genre not found', 'Hole_(band)': 'Genre not found', 'The_Hollies': 'Genre not found', 'Buddy_Holly': 'Genre not found', 'Hoobastank': 'Genre not found', 'Hootie_&_the_Blowfish': 'Genre not found', 'Icehouse_(band)': 'Genre not found', 'Billy_Idol': 'Genre not found', 'Imagine_Dragons': 'Genre not found', 'Incubus_(band)': 'Genre not found', 'Interpol_(band)': 'Genre not found', 'INXS': 'Genre not found', 'Iron_Maiden': 'Genre not found', 'The_J._Geils_Band': 'Genre not found', 'The_Jam': 'Genre not found', 'Tommy_James_and_the_Shondells': 'Genre not found', \"Jane's_Addiction\": 'Genre not found', 'Jefferson_Airplane': 'Genre not found', 'Jefferson_Starship': 'Genre not found', 'The_Jesus_and_Mary_Chain': 'Genre not found', 'Jet_(Australian_band)': 'Genre not found', 'Jethro_Tull_(band)': 'Genre not found', 'Joan_Jett': 'Genre not found', 'Jimmy_Eat_World': 'Genre not found', 'Billy_Joel': 'Genre not found', 'Elton_John': 'Genre not found', 'Janis_Joplin': 'Genre not found', 'Journey_(band)': 'Genre not found', 'Joy_Division': 'Genre not found', 'Judas_Priest': 'Genre not found', 'Kaiser_Chiefs': 'Genre not found', 'Kaleo_(band)': 'Genre not found', 'Kansas_(band)': 'Genre not found', 'Keane_(band)': 'Genre not found', 'Kid_Rock': 'Genre not found', 'The_Killers': 'Genre not found', 'Killswitch_Engage': 'Genre not found', 'Kings_of_Leon': 'Genre not found', 'The_Kinks': 'Genre not found', 'Kiss_(band)': 'Genre not found', 'Korn': 'Genre not found', 'Lenny_Kravitz': 'Genre not found', 'Lacuna_Coil': 'Genre not found', 'Lamb_of_God_(band)': 'Genre not found', 'Avril_Lavigne': 'Genre not found', 'Led_Zeppelin': 'Genre not found', 'John_Lennon': 'Genre not found', 'Huey_Lewis_and_the_News': 'Genre not found', 'Jerry_Lee_Lewis': 'Genre not found', 'Lifehouse_(band)': 'Genre not found', 'Limp_Bizkit': 'Genre not found', 'Linkin_Park': 'Genre not found', 'Little_Richard': 'Genre not found', 'Little_River_Band': 'Genre not found', 'Live_(band)': 'Genre not found', 'Living_Colour': 'Genre not found', 'Kenny_Loggins': 'Genre not found', 'Loverboy': 'Genre not found', \"The_Lovin'_Spoonful\": 'Genre not found', 'The_Lumineers': 'Genre not found', 'Lynyrd_Skynyrd': 'Genre not found', 'The_Mamas_&_the_Papas': 'Genre not found', 'Manfred_Mann': 'Genre not found', 'Manfred_Mann_(musician)': 'Genre not found', \"Manfred_Mann's_Earth_Band\": 'Genre not found', 'Manfred_Mann_Chapter_Three': 'Genre not found', 'Marilyn_Manson': 'Genre not found', 'Marilyn_Manson_(band)': 'Genre not found', 'The_Marshall_Tucker_Band': 'Genre not found', 'Matchbox_Twenty': 'Genre not found', 'John_Mayer': 'Genre not found', 'John_Mayall': 'Genre not found', 'John_Mayall_&_the_Bluesbreakers': 'Genre not found', 'Paul_McCartney': 'Genre not found', 'Meat_Loaf': 'Genre not found', 'Megadeth': 'Genre not found', 'John_Mellencamp': 'Genre not found', 'Men_at_Work': 'Genre not found', 'Metallica': 'Genre not found', 'Midnight_Oil': 'Genre not found', 'Mike_and_the_Mechanics': 'Genre not found', 'Modest_Mouse': 'Genre not found', 'Eddie_Money': 'Genre not found', 'The_Monkees': 'Genre not found', 'Montgomery_Gentry': 'Genre not found', 'The_Moody_Blues': 'Genre not found', 'Alanis_Morissette': 'Genre not found', 'Van_Morrison': 'Genre not found', 'Morrissey': 'Genre not found', 'The_Mothers_of_Invention': 'Genre not found', 'Mötley_Crüe': 'Genre not found', 'Motörhead': 'Genre not found', 'Mudvayne': 'Genre not found', 'Mumford_&_Sons': 'Genre not found', 'Michael_Martin_Murphey': 'Genre not found', 'Muse_(band)': 'Genre not found', 'My_Chemical_Romance': 'Genre not found', 'New_York_Dolls': 'Genre not found', 'Nickelback': 'Genre not found', 'Stevie_Nicks': 'Genre not found', 'Harry_Nilsson': 'Genre not found', 'Nine_Inch_Nails': 'Genre not found', 'Nirvana_(band)': 'Genre not found', 'No_Doubt': 'Genre not found', 'Ted_Nugent': 'Genre not found', 'Oasis_(band)': 'Genre not found', 'The_Offspring': 'Genre not found', 'Roy_Orbison': 'Genre not found', 'Ozzy_Osbourne': 'Genre not found', 'Our_Lady_Peace': 'Genre not found', 'The_Outfield': 'Genre not found', 'P.O.D.': 'Genre not found', 'Panic!_at_the_Disco': 'Genre not found', 'Pantera': 'Genre not found', 'Papa_Roach': 'Genre not found', 'Paramore': 'Genre not found', 'Parliament_(band)': 'Genre not found', 'Parliament-Funkadelic': 'Genre not found', 'Pearl_Jam': 'Genre not found', 'A_Perfect_Circle': 'Genre not found', 'Tom_Petty': 'Genre not found', 'Tom_Petty_and_the_Heartbreakers': 'Genre not found', 'Pink_Floyd': 'Genre not found', 'Pixies_(band)': 'Genre not found', 'Robert_Plant': 'Genre not found', 'Poison_(American_band)': 'Genre not found', 'The_Police': 'Genre not found', 'Iggy_Pop': 'Genre not found', 'Pop_Evil': 'Genre not found', 'The_Presidents_of_the_United_States_of_America_(band)': 'Genre not found', 'The_Pretenders': 'Genre not found', 'Elvis_Presley': 'Genre not found', 'The_Pretty_Reckless': 'Genre not found', 'Primus_(band)': 'Genre not found', 'Puddle_of_Mudd': 'Genre not found', 'Queen_(band)': 'Genre not found', 'Queens_of_the_Stone_Age': 'Genre not found', 'Queensrÿche': 'Genre not found', 'Quiet_Riot': 'Genre not found', 'R.E.M.': 'Genre not found', 'Radiohead': 'Genre not found', 'Rage_Against_the_Machine': 'Genre not found', 'Rainbow_(rock_band)': 'Genre not found', 'Rammstein': 'Genre not found', 'Ramones': 'Genre not found', 'Ratt': 'Genre not found', 'Red_Hot_Chili_Peppers': 'Genre not found', 'Lou_Reed': 'Genre not found', 'REO_Speedwagon': 'Genre not found', 'Chris_Rea': 'Genre not found', 'Rise_Against': 'Genre not found', 'Sixto_Rodriguez': 'Genre not found', 'The_Rolling_Stones': 'Genre not found', 'Linda_Ronstadt': 'Genre not found', 'Roxy_Music': 'Genre not found', 'Royal_Blood_(band)': 'Genre not found', 'Run-DMC': 'Genre not found', 'Rush_(band)': 'Genre not found', 'Mitch_Ryder': 'Genre not found', 'Saliva_(band)': 'Genre not found', 'Sam_Fender': 'Genre not found', 'Santana_(band)': 'Genre not found', 'Joe_Satriani': 'Genre not found', 'Saving_Abel': 'Genre not found', 'Scorpions_(band)': 'Genre not found', 'The_Script': 'Genre not found', 'Seether': 'Genre not found', 'Bob_Seger': 'Genre not found', 'Sepultura': 'Genre not found', 'Sex_Pistols': 'Genre not found', \"Shakin'_Stevens\": 'Genre not found', 'Shinedown': 'Genre not found', 'Silverchair': 'Genre not found', 'Simon_&_Garfunkel': 'Genre not found', 'Simple_Minds': 'Genre not found', 'Simple_Plan': 'Genre not found', 'Skid_Row_(American_band)': 'Genre not found', 'Skillet_(band)': 'Genre not found', 'Slade': 'Genre not found', 'Slayer': 'Genre not found', 'Slipknot_(band)': 'Genre not found', 'Sly_and_the_Family_Stone': 'Genre not found', 'Small_Faces': 'Genre not found', 'Smash_Mouth': 'Genre not found', 'The_Smashing_Pumpkins': 'Genre not found', 'The_Smiths': 'Genre not found', 'Smokie_(band)': 'Genre not found', 'Snow_Patrol': 'Genre not found', 'Social_Distortion': 'Genre not found', 'Sonic_Youth': 'Genre not found', 'Soundgarden': 'Genre not found', 'Bruce_Springsteen': 'Genre not found', 'Billy_Squier': 'Genre not found', 'Staind': 'Genre not found', 'Ringo_Starr': 'Genre not found', 'Starset': 'Genre not found', 'Starship_(band)': 'Genre not found', 'Status_Quo_(band)': 'Genre not found', 'Steely_Dan': 'Genre not found', 'Steppenwolf_(band)': 'Genre not found', 'Steve_Miller_Band': 'Genre not found', 'Rod_Stewart': 'Genre not found', 'Sting_(musician)': 'Genre not found', 'The_Stone_Roses': 'Genre not found', 'Stone_Sour': 'Genre not found', 'Stone_Temple_Pilots': 'Genre not found', 'The_Strokes': 'Genre not found', 'Styx_(band)': 'Genre not found', 'Sublime_(band)': 'Genre not found', 'Sublime_with_Rome': 'Genre not found', 'Sum_41': 'Genre not found', 'Supertramp': 'Genre not found', 'Survivor_(band)': 'Genre not found', 'The_Sweet': 'Genre not found', 'System_of_a_Down': 'Genre not found', 'T._Rex_(band)': 'Genre not found', 'Talking_Heads': 'Genre not found', 'James_Taylor': 'Genre not found', 'Ten_Years_After': 'Genre not found', 'Tenacious_D': 'Genre not found', 'Tesla_(band)': 'Genre not found', 'Theory_of_a_Deadman': 'Genre not found', 'Thin_Lizzy': 'Genre not found', 'Third_Eye_Blind': 'Genre not found', 'Thirty_Seconds_to_Mars': 'Genre not found', 'George_Thorogood': 'Genre not found', 'Thousand_Foot_Krutch': 'Genre not found', 'Three_Days_Grace': 'Genre not found', 'Three_Dog_Night': 'Genre not found', 'Tool_(band)': 'Genre not found', 'Toto_(band)': 'Genre not found', 'Traffic_(band)': 'Genre not found', 'The_Tragically_Hip': 'Genre not found', 'Train_(band)': 'Genre not found', 'Traveling_Wilburys': 'Genre not found', 'Travis_(band)': 'Genre not found', 'Trivium_(band)': 'Genre not found', 'Twenty_One_Pilots': 'Genre not found', 'Twisted_Sister': 'Genre not found', 'U2': 'Genre not found', 'UB40': 'Genre not found', 'Uriah_Heep_(band)': 'Genre not found', 'The_Used': 'Genre not found', 'Steve_Vai': 'Genre not found', 'Ritchie_Valens': 'Genre not found', 'Vampire_Weekend': 'Genre not found', 'Van_Halen': 'Genre not found', 'Van_Zant_(band)': 'Genre not found', 'Stevie_Ray_Vaughan': 'Genre not found', 'Velvet_Revolver': 'Genre not found', 'The_Velvet_Underground': 'Genre not found', 'The_Verve': 'Genre not found', 'Gene_Vincent': 'Genre not found', 'Volbeat': 'Genre not found', 'Joe_Walsh': 'Genre not found', 'Warrant_(American_band)': 'Genre not found', 'W.A.S.P._(band)': 'Genre not found', 'Weezer': 'Genre not found', 'Jack_White': 'Genre not found', 'The_White_Stripes': 'Genre not found', 'White_Zombie_(band)': 'Genre not found', 'Whitesnake': 'Genre not found', 'The_Who': 'Genre not found', 'Paul_McCartney_and_Wings': 'Genre not found', 'Steve_Winwood': 'Genre not found', 'X_(American_band)': 'Genre not found', 'X_Ambassadors': 'Genre not found', 'The_Yardbirds': 'Genre not found', 'Yes_(band)': 'Genre not found', 'Neil_Young': 'Genre not found', 'Frank_Zappa': 'Genre not found', 'Rob_Zombie': 'Genre not found', 'The_Zombies': 'Genre not found', 'ZZ_Top': 'Genre not found'}\n"
     ]
    }
   ],
   "source": [
    "# In the folder bands, the files with the wikitext for each band are stored.\n",
    "\n",
    "# get the genre(s) for each band from the infobox in the wikitext files and store in a dictionary\n",
    "band_genres = {}\n",
    "\n",
    "for band, safe_name in zip(bands_cleaned, bands_sanitized):\n",
    "    try:\n",
    "        with open(f\"bands/{safe_name}.txt\", \"r\", encoding='utf-8') as file:\n",
    "            band_text = file.read()\n",
    "            # Regex to find the genre(s) in the infobox\n",
    "            genre_pattern = r'\\|\\s*genre\\s*=\\s*(.*?)\\n'\n",
    "            genre_match = re.search(genre_pattern, band_text, re.DOTALL)\n",
    "            if genre_match:\n",
    "                genres = genre_match.group(1).strip()\n",
    "                # Clean up the genres string\n",
    "                genres = re.sub(r'<.*?>', '', genres)  # Remove any HTML tags\n",
    "                genres = re.sub(r'\\[\\[|\\]\\]', '', genres)  # Remove wiki link brackets\n",
    "                genres = re.sub(r'\\s*\\|\\s*', ', ', genres)  # Replace '|' with ', '\n",
    "                band_genres[band] = genres\n",
    "            else:\n",
    "                band_genres[band] = 'Genre not found'\n",
    "    except FileNotFoundError:\n",
    "        band_genres[band] = 'File not found'\n",
    "print(band_genres)\n",
    "\n",
    "    \n",
    "\n"
   ]
  }
 ],
 "metadata": {
  "kernelspec": {
   "display_name": "Python 3",
   "language": "python",
   "name": "python3"
  },
  "language_info": {
   "codemirror_mode": {
    "name": "ipython",
    "version": 3
   },
   "file_extension": ".py",
   "mimetype": "text/x-python",
   "name": "python",
   "nbconvert_exporter": "python",
   "pygments_lexer": "ipython3",
   "version": "3.13.2"
  }
 },
 "nbformat": 4,
 "nbformat_minor": 5
}
