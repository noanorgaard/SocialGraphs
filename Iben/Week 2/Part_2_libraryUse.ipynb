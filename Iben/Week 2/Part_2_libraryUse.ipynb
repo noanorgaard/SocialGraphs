{
 "cells": [
  {
   "cell_type": "markdown",
   "id": "feb0296e",
   "metadata": {},
   "source": [
    "## Part 2: Exercises using the NetworkX library\n",
    "### Let's try to solve a few of the exercises from the book using NetworkX\n",
    "\n",
    "### Exercises:\n",
    "\n",
    "- Go to NS Section 2.12: Homework, then\n",
    "    - Write the solution exercise 2.1 (the 'Königsberg Problem') from NS in your notebook.\n",
    "    - Solve exercise 2.3 ('Graph representation') from NS using NetworkX in your notebook. (You don't have to solve the last sub-question about cycles of length 4 ... but I'll be impressed if you do it. One more thing on that last sub-exercise: It's easier to solve if you don't use NetworkX, but simple pen and paper).\n",
    "    - Solve exercise 2.5 ('Bipartite Networks') from NS using NetworkX in your notebook. Important note: There is a a mistake in the book. When it says \"Block diagonal\", they mean \"Anti-block diagonal\" (all elements are away from the diagonal blocks).\n",
    "    - Note: For those without the physical book (and therefore no exercise numbers), the part \"Bipartite Networks - General Considerations\" does not need to be solved (the two last questions do not make much sense to me).\n",
    "\n"
   ]
  },
  {
   "cell_type": "markdown",
   "id": "af381aff",
   "metadata": {},
   "source": [
    "### 2.1\n",
    "\n",
    "All graphs should have max. two nodes with odd degree, to be able to drawn without raising yourpencil from the paper, and without drawing any line more than once. Therefore a, c and d can be drawn, but b cannot.\n"
   ]
  },
  {
   "cell_type": "markdown",
   "id": "a3a58010",
   "metadata": {},
   "source": [
    "### 2.3 Graph representation"
   ]
  },
  {
   "cell_type": "markdown",
   "id": "e48822c6",
   "metadata": {},
   "source": []
  },
  {
   "cell_type": "code",
   "execution_count": null,
   "id": "5c12c725",
   "metadata": {},
   "outputs": [
    {
     "name": "stdout",
     "output_type": "stream",
     "text": [
      "Adjacency Matrix of G1 (Undirected): [[0 1 1 1 0 1]\n",
      " [1 0 1 1 0 0]\n",
      " [1 1 0 0 0 1]\n",
      " [1 1 0 0 0 0]\n",
      " [0 0 0 0 0 0]\n",
      " [1 0 1 0 0 0]]\n",
      "Adjacency Matrix of G2 (Directed): [[0 1 0 0 0 0]\n",
      " [0 0 1 1 0 0]\n",
      " [1 1 0 0 0 0]\n",
      " [1 0 0 0 0 0]\n",
      " [0 0 0 0 0 0]\n",
      " [1 0 1 0 0 0]]\n",
      "Edge List of G1 (Undirected): [(1, 2), (1, 3), (1, 4), (1, 6), (2, 3), (2, 4), (3, 6)]\n",
      "Edge List of G2 (Directed): [(1, 2), (2, 3), (2, 4), (3, 2), (3, 1), (4, 1), (6, 1), (6, 3)]\n"
     ]
    }
   ],
   "source": [
    "import networkx as nx\n",
    "\n",
    "# Undirected graph\n",
    "G1 = nx.Graph()\n",
    "G1.add_nodes_from([1,2,3,4,5,6])\n",
    "G1.add_edges_from([(1, 2), (1, 3), (1,4), (1,6), (2, 3), (2, 4), (3,6)])\n",
    "\n",
    "# Directed graph\n",
    "G2 = nx.DiGraph()\n",
    "G2.add_nodes_from([1,2,3,4,5,6])\n",
    "G2.add_edges_from([(1, 2), (2,3), (2,4), (3,2), (3,1), (4,1), (6,1), (6,3)])\n",
    "\n",
    "# Get adjacency list\n",
    "adj_list_G1 = list(G1.adjacency())\n",
    "adj_list_G2 = list(G2.adjacency())\n",
    "\n",
    "# Get adjacency matrix\n",
    "adj_matrix_G1 = nx.adjacency_matrix(G1).toarray()\n",
    "adj_matrix_G2 = nx.adjacency_matrix(G2).toarray()\n",
    "print(\"Adjacency Matrix of G1 (Undirected):\", adj_matrix_G1)\n",
    "print(\"Adjacency Matrix of G2 (Directed):\", adj_matrix_G2)\n",
    "\n",
    "# Get the link list (edge list)\n",
    "edge_list_G1 = list(G1.edges())\n",
    "edge_list_G2 = list(G2.edges())\n",
    "print(\"Edge List of G1 (Undirected):\", edge_list_G1)\n",
    "print(\"Edge List of G2 (Directed):\", edge_list_G2)\n",
    "\n",
    "\n"
   ]
  },
  {
   "cell_type": "code",
   "execution_count": 64,
   "id": "a9f0bcaa",
   "metadata": {},
   "outputs": [
    {
     "name": "stdout",
     "output_type": "stream",
     "text": [
      "[0.5        0.66666667 0.66666667 1.         0.         1.        ]\n",
      "{1: 0.5, 2: 0.6666666666666666, 3: 0.6666666666666666, 4: 1.0, 5: 0, 6: 1.0}\n"
     ]
    }
   ],
   "source": [
    "# Clustering coefficient\n",
    "import numpy as np\n",
    "\n",
    "C = np.zeros(6)\n",
    "\n",
    "for n in G1.nodes:\n",
    "   L = 0\n",
    "   degree_n = G1.degree(n)\n",
    "   denominator = degree_n*(degree_n-1)\n",
    "   nbrs = [nb for nb in G1.neighbors(n)]\n",
    "   nbrs = np.add(nbrs,-1)\n",
    "   for nbr in nbrs:\n",
    "      L += np.sum(adj_matrix_G1[nbr][[nbrs]])/2 #number of connections to the neighbors of n\n",
    "   if denominator > 0:\n",
    "      C[n-1] = 2*L/denominator\n",
    "\n",
    "print(C)\n",
    "\n",
    "# Alternativt\n",
    "print(nx.clustering(G1))\n",
    "\n"
   ]
  },
  {
   "cell_type": "code",
   "execution_count": null,
   "id": "c962f99b",
   "metadata": {},
   "outputs": [
    {
     "name": "stdout",
     "output_type": "stream",
     "text": [
      "86\n"
     ]
    }
   ],
   "source": [
    "# Number of length 4 cycles in the graph (SKAL IKKE LAVES!!!)\n",
    "\n",
    "A1_4 = np.linalg.matrix_power(adj_matrix_G1, 4)\n",
    "cycles = np.trace(A1_4)\n",
    "\n"
   ]
  },
  {
   "cell_type": "markdown",
   "id": "ce5850d5",
   "metadata": {},
   "source": []
  },
  {
   "cell_type": "code",
   "execution_count": null,
   "id": "c36968f3",
   "metadata": {},
   "outputs": [
    {
     "data": {
      "text/plain": [
       "array([26, 19, 19, 11,  0, 11])"
      ]
     },
     "execution_count": 69,
     "metadata": {},
     "output_type": "execute_result"
    }
   ],
   "source": [
    "\n",
    "\n"
   ]
  },
  {
   "cell_type": "code",
   "execution_count": null,
   "id": "bc5bf8b2",
   "metadata": {},
   "outputs": [],
   "source": []
  },
  {
   "cell_type": "code",
   "execution_count": null,
   "id": "97aeef75",
   "metadata": {},
   "outputs": [],
   "source": []
  },
  {
   "cell_type": "markdown",
   "id": "f0687519",
   "metadata": {},
   "source": []
  }
 ],
 "metadata": {
  "kernelspec": {
   "display_name": "Python 3",
   "language": "python",
   "name": "python3"
  },
  "language_info": {
   "codemirror_mode": {
    "name": "ipython",
    "version": 3
   },
   "file_extension": ".py",
   "mimetype": "text/x-python",
   "name": "python",
   "nbconvert_exporter": "python",
   "pygments_lexer": "ipython3",
   "version": "3.13.2"
  }
 },
 "nbformat": 4,
 "nbformat_minor": 5
}
