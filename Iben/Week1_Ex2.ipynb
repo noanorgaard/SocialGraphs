{
 "cells": [
  {
   "cell_type": "markdown",
   "id": "d9752e2b",
   "metadata": {},
   "source": [
    "# Week 1 - ex2\n",
    "Read chapter 1 and answer the questions"
   ]
  },
  {
   "cell_type": "markdown",
   "id": "73fe6380",
   "metadata": {},
   "source": [
    "## List three different real networks and state the nodes and links for each of them.\n",
    "\n",
    "1) Nervous system. \n",
    "The nodes are the neurons and the links are the axons. \n",
    "\n",
    "2) Google maps - and other maps.\n",
    "The nodes are the intersections and the links are the roads.\n",
    "\n",
    "3) Flight\n",
    "The nodes are the airports and the links are the routes the planes fly.\n"
   ]
  },
  {
   "cell_type": "markdown",
   "id": "5c9a09f8",
   "metadata": {},
   "source": [
    "\n",
    "\n",
    "## Tell us of the network you are personally most interested in (a fourth one). \n",
    "Social life in Nørrebro.\n",
    "\n",
    "## Address the following questions:\n",
    "\n",
    "### What are its nodes and links?\n",
    "The nodes are the people living in nørrebro, and the links are the interactions between these people.\n",
    "\n",
    "### How large is it?\n",
    "This is a very large network, as you have many many interactions with people on a daily basis where you live. It has 80.000 nodes approx. as this is the size of the population. \n",
    "\n",
    "### Can be mapped out?\n",
    "It is difficult to map out, almost impossible, as people have many interactions, from a small greeting in a supermarket to a friendship. \n",
    "\n",
    "### Does it evolve over time?\n",
    "This is a dynamical network that keeps evolving, and is not stationary, as new interactions and therefore links forms almost everyday for all 80.000 nodes/people. A simplification could be to let the links be facebook friends (inside nørrebro) instead of interactions, as this is more stable and is easier to measure as the data is quantified. \n",
    "\n",
    "### Are there processes occurring ON the network? (information spreading, for example)\n",
    "Yes, as interactions between people can happen in many ways. From information given throgh words and talking, to objects being passed between people and so on.\n",
    "\n",
    "### Why do you care about it?\n",
    "It is our life!\n",
    "\n",
    "### In your view what would be the area where network science could have the biggest impact in the next decade? Explain your answer - and base it on the text in the book.\n",
    "\n"
   ]
  }
 ],
 "metadata": {
  "language_info": {
   "name": "python"
  }
 },
 "nbformat": 4,
 "nbformat_minor": 5
}
