{
 "cells": [
  {
   "cell_type": "markdown",
   "id": "fb35343f",
   "metadata": {},
   "source": [
    "# Networks 4, Advanced Measures"
   ]
  },
  {
   "cell_type": "markdown",
   "id": "12d8ca28",
   "metadata": {},
   "source": [
    "#### Exercise: Plot the Network using ForceAtlas2. For visualization, you should work with the network from last time, the Giant Connected Component ... and the undirected version."
   ]
  },
  {
   "cell_type": "code",
   "execution_count": 1,
   "id": "398c48e8",
   "metadata": {},
   "outputs": [
    {
     "ename": "ModuleNotFoundError",
     "evalue": "No module named 'matplotlib'",
     "output_type": "error",
     "traceback": [
      "\u001b[31m---------------------------------------------------------------------------\u001b[39m",
      "\u001b[31mModuleNotFoundError\u001b[39m                       Traceback (most recent call last)",
      "\u001b[36mCell\u001b[39m\u001b[36m \u001b[39m\u001b[32mIn[1]\u001b[39m\u001b[32m, line 3\u001b[39m\n\u001b[32m      1\u001b[39m \u001b[38;5;66;03m#  Loading the graph from Github as decribed in the exercise\u001b[39;00m\n\u001b[32m      2\u001b[39m \u001b[38;5;28;01mimport\u001b[39;00m\u001b[38;5;250m \u001b[39m\u001b[34;01mnetworkx\u001b[39;00m\u001b[38;5;250m \u001b[39m\u001b[38;5;28;01mas\u001b[39;00m\u001b[38;5;250m \u001b[39m\u001b[34;01mnx\u001b[39;00m\n\u001b[32m----> \u001b[39m\u001b[32m3\u001b[39m \u001b[38;5;28;01mimport\u001b[39;00m\u001b[38;5;250m \u001b[39m\u001b[34;01mmatplotlib\u001b[39;00m\u001b[34;01m.\u001b[39;00m\u001b[34;01mpyplot\u001b[39;00m\u001b[38;5;250m \u001b[39m\u001b[38;5;28;01mas\u001b[39;00m\u001b[38;5;250m \u001b[39m\u001b[34;01mplt\u001b[39;00m\n\u001b[32m      4\u001b[39m \u001b[38;5;28;01mimport\u001b[39;00m\u001b[38;5;250m \u001b[39m\u001b[34;01mnumpy\u001b[39;00m\u001b[38;5;250m \u001b[39m\u001b[38;5;28;01mas\u001b[39;00m\u001b[38;5;250m \u001b[39m\u001b[34;01mnp\u001b[39;00m\n\u001b[32m      5\u001b[39m \u001b[38;5;28;01mimport\u001b[39;00m\u001b[38;5;250m \u001b[39m\u001b[34;01mrequests\u001b[39;00m\n",
      "\u001b[31mModuleNotFoundError\u001b[39m: No module named 'matplotlib'"
     ]
    }
   ],
   "source": [
    "#  Loading the graph from Github as decribed in the exercise\n",
    "import networkx as nx\n",
    "import matplotlib.pyplot as plt\n",
    "import numpy as np\n",
    "import requests\n",
    "import random\n",
    "\n",
    "url = r\"https://raw.githubusercontent.com/noanorgaard/SocialGraphs/refs/heads/main/Assignment1/rock_music_graph1.graphml\"# Loading graph from a GraphML file from a URL\n",
    "\n",
    "data = requests.get(url).text   # decode to string, not bytes\n",
    "G = nx.parse_graphml(data)"
   ]
  },
  {
   "cell_type": "code",
   "execution_count": 4,
   "id": "d83df8ff",
   "metadata": {},
   "outputs": [
    {
     "ename": "AttributeError",
     "evalue": "module 'networkx' has no attribute 'forceatlas2_layout'",
     "output_type": "error",
     "traceback": [
      "\u001b[0;31m---------------------------------------------------------------------------\u001b[0m",
      "\u001b[0;31mAttributeError\u001b[0m                            Traceback (most recent call last)",
      "Cell \u001b[0;32mIn[4], line 12\u001b[0m\n\u001b[1;32m     10\u001b[0m plt\u001b[38;5;241m.\u001b[39mfigure(figsize\u001b[38;5;241m=\u001b[39m(\u001b[38;5;241m8\u001b[39m,\u001b[38;5;241m8\u001b[39m))\n\u001b[1;32m     11\u001b[0m \u001b[38;5;66;03m# pos = nx.spring_layout(G_undirected, seed=42, k = 0.8)  # positions for all \u001b[39;00m\n\u001b[0;32m---> 12\u001b[0m pos \u001b[38;5;241m=\u001b[39m \u001b[43mnx\u001b[49m\u001b[38;5;241;43m.\u001b[39;49m\u001b[43mforceatlas2_layout\u001b[49m(G_undirected)\n\u001b[1;32m     13\u001b[0m \u001b[38;5;66;03m# node sizes based on degree\u001b[39;00m\n\u001b[1;32m     15\u001b[0m node_sizes \u001b[38;5;241m=\u001b[39m [\u001b[38;5;241m5\u001b[39m \u001b[38;5;241m+\u001b[39m \u001b[38;5;241m1\u001b[39m \u001b[38;5;241m*\u001b[39m G_undirected\u001b[38;5;241m.\u001b[39mdegree(n) \u001b[38;5;28;01mfor\u001b[39;00m n \u001b[38;5;129;01min\u001b[39;00m G_undirected\u001b[38;5;241m.\u001b[39mnodes()]\n",
      "\u001b[0;31mAttributeError\u001b[0m: module 'networkx' has no attribute 'forceatlas2_layout'"
     ]
    },
    {
     "data": {
      "text/plain": [
       "<Figure size 800x800 with 0 Axes>"
      ]
     },
     "metadata": {},
     "output_type": "display_data"
    }
   ],
   "source": [
    "#Visualize the network using NetworkX\n",
    "#Node color should depend on the length_of_content attribute (see notes from last week).\n",
    "#Node size should depend on the node degree\n",
    "#Play with the force atlas algorithm parameters to obtain a visualization you like.\n",
    "\n",
    "# convert directed graph to undirected graph\n",
    "G_undirected = G.to_undirected()\n",
    "\n",
    "# plot the undirected graph\n",
    "plt.figure(figsize=(8,8))\n",
    "# pos = nx.spring_layout(G_undirected, seed=42, k = 0.8)  # positions for all \n",
    "pos = nx.forceatlas2_layout(G_undirected)\n",
    "# node sizes based on degree\n",
    "\n",
    "node_sizes = [5 + 1 * G_undirected.degree(n) for n in G_undirected.nodes()]\n",
    "# node colors based on word count (content length)\n",
    "node_colors = [G_undirected.nodes[n]['word_count'] for n in G_undirected.nodes()]\n",
    "nodes = nx.draw_networkx_nodes(G_undirected, pos, node_size=node_sizes, node_color=node_colors, cmap=plt.cm.viridis)\n",
    "edges = nx.draw_networkx_edges(G_undirected, pos, alpha=0.3)\n",
    "plt.colorbar(nodes, label='Word Count')\n",
    "plt.title('Undirected Network of Mainstream Rock Performers')\n",
    "plt.axis('off')\n",
    "plt.show()"
   ]
  },
  {
   "cell_type": "code",
   "execution_count": null,
   "id": "017753e4",
   "metadata": {},
   "outputs": [],
   "source": []
  }
 ],
 "metadata": {
  "kernelspec": {
   "display_name": "python_env_3_12",
   "language": "python",
   "name": "python3"
  },
  "language_info": {
   "codemirror_mode": {
    "name": "ipython",
    "version": 3
   },
   "file_extension": ".py",
   "mimetype": "text/x-python",
   "name": "python",
   "nbconvert_exporter": "python",
   "pygments_lexer": "ipython3",
   "version": "3.12.11"
  }
 },
 "nbformat": 4,
 "nbformat_minor": 5
}
