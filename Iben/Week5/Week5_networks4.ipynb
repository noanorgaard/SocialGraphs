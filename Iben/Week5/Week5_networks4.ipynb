{
 "cells": [
  {
   "cell_type": "markdown",
   "id": "fb35343f",
   "metadata": {},
   "source": [
    "# Networks 4, Advanced Measures"
   ]
  },
  {
   "cell_type": "markdown",
   "id": "12d8ca28",
   "metadata": {},
   "source": [
    "#### Exercise: Plot the Network using ForceAtlas2. For visualization, you should work with the network from last time, the Giant Connected Component ... and the undirected version."
   ]
  },
  {
   "cell_type": "code",
   "execution_count": null,
   "id": "398c48e8",
   "metadata": {},
   "outputs": [],
   "source": [
    "#  Loading the graph from Github as decribed in the exercise\n",
    "import networkx as nx\n",
    "import matplotlib.pyplot as plt\n",
    "import numpy as np\n",
    "import requests\n",
    "import random\n",
    "\n",
    "url = r\"https://raw.githubusercontent.com/noanorgaard/SocialGraphs/refs/heads/main/Assignment1/rock_music_graph1.graphml\"# Loading graph from a GraphML file from a URL\n",
    "\n",
    "data = requests.get(url).text   # decode to string, not bytes\n",
    "G = nx.parse_graphml(data)"
   ]
  },
  {
   "cell_type": "code",
   "execution_count": null,
   "id": "d83df8ff",
   "metadata": {},
   "outputs": [],
   "source": []
  }
 ],
 "metadata": {
  "kernelspec": {
   "display_name": "Python 3",
   "language": "python",
   "name": "python3"
  },
  "language_info": {
   "name": "python",
   "version": "3.13.2"
  }
 },
 "nbformat": 4,
 "nbformat_minor": 5
}
